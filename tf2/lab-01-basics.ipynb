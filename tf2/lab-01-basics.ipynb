{
 "cells": [
  {
   "cell_type": "markdown",
   "id": "e5458859",
   "metadata": {},
   "source": [
    "# Check TF version"
   ]
  },
  {
   "cell_type": "code",
   "execution_count": 1,
   "id": "420e92fe",
   "metadata": {},
   "outputs": [
    {
     "name": "stdout",
     "output_type": "stream",
     "text": [
      "Num GPUs Available:  1\n"
     ]
    },
    {
     "data": {
      "text/plain": [
       "[PhysicalDevice(name='/physical_device:CPU:0', device_type='CPU'),\n",
       " PhysicalDevice(name='/physical_device:GPU:0', device_type='GPU')]"
      ]
     },
     "execution_count": 1,
     "metadata": {},
     "output_type": "execute_result"
    }
   ],
   "source": [
    "import tensorflow as tf\n",
    "print(\"Num GPUs Available: \", len(tf.config.experimental.list_physical_devices('GPU')))\n",
    "tf.config.list_physical_devices()"
   ]
  },
  {
   "cell_type": "code",
   "execution_count": 2,
   "id": "486a1123",
   "metadata": {},
   "outputs": [],
   "source": [
    "import tensorflow as tf"
   ]
  },
  {
   "cell_type": "code",
   "execution_count": 3,
   "id": "41759b3a",
   "metadata": {},
   "outputs": [
    {
     "data": {
      "text/plain": [
       "'2.9.2'"
      ]
     },
     "execution_count": 3,
     "metadata": {},
     "output_type": "execute_result"
    }
   ],
   "source": [
    "tf.__version__"
   ]
  },
  {
   "cell_type": "markdown",
   "id": "10bc17d1",
   "metadata": {},
   "source": [
    "# Hello TensorFlow!"
   ]
  },
  {
   "cell_type": "markdown",
   "id": "37b3686d",
   "metadata": {},
   "source": [
    "> 텐서플로우 1.0에서 2.0으로 넘어오면서 \"session\"과 \"placeholder\"가 사라졌다.  \n",
    "> 참고 : https://eclipse360.tistory.com/40"
   ]
  },
  {
   "cell_type": "code",
   "execution_count": 4,
   "id": "1b714ccb",
   "metadata": {},
   "outputs": [
    {
     "name": "stdout",
     "output_type": "stream",
     "text": [
      "Metal device set to: Hello, TensorFlow!\n",
      "Apple M1\n",
      "\n",
      "systemMemory: 8.00 GB\n",
      "maxCacheSize: 2.67 GB\n",
      "\n"
     ]
    },
    {
     "name": "stderr",
     "output_type": "stream",
     "text": [
      "2022-08-26 16:26:02.756902: I tensorflow/core/common_runtime/pluggable_device/pluggable_device_factory.cc:305] Could not identify NUMA node of platform GPU ID 0, defaulting to 0. Your kernel may not have been built with NUMA support.\n",
      "2022-08-26 16:26:02.757003: I tensorflow/core/common_runtime/pluggable_device/pluggable_device_factory.cc:271] Created TensorFlow device (/job:localhost/replica:0/task:0/device:GPU:0 with 0 MB memory) -> physical PluggableDevice (device: 0, name: METAL, pci bus id: <undefined>)\n"
     ]
    }
   ],
   "source": [
    "hello = tf.constant(\"Hello, TensorFlow!\")\n",
    "\n",
    "tf.print(hello)"
   ]
  },
  {
   "cell_type": "markdown",
   "id": "cc1aa8b7",
   "metadata": {},
   "source": [
    "# Computational Graph"
   ]
  },
  {
   "cell_type": "code",
   "execution_count": 5,
   "id": "12cfc107",
   "metadata": {},
   "outputs": [],
   "source": [
    "node1 = tf.constant(3.0, tf.float32)\n",
    "node2 = tf.constant(4.0)        # also tf.float32 implicitly\n",
    "\n",
    "node3 = tf.add(node1, node2)\n",
    "# node3 = node1 + node2"
   ]
  },
  {
   "cell_type": "code",
   "execution_count": 6,
   "id": "31d0c662",
   "metadata": {},
   "outputs": [
    {
     "name": "stdout",
     "output_type": "stream",
     "text": [
      "node1: tf.Tensor(3.0, shape=(), dtype=float32) \n",
      " node2: tf.Tensor(4.0, shape=(), dtype=float32)\n",
      "node3:  tf.Tensor(7.0, shape=(), dtype=float32)\n"
     ]
    }
   ],
   "source": [
    "print(\"node1:\", node1, \"\\n\", \"node2:\", node2)\n",
    "print(\"node3: \", node3)"
   ]
  },
  {
   "cell_type": "markdown",
   "id": "998263e4",
   "metadata": {},
   "source": [
    "<img width=\"155\" alt=\"스크린샷 2022-07-26 오후 8 11 34\" src=\"https://user-images.githubusercontent.com/91893721/180993362-d421224d-33b4-419f-8e1b-9fc15d333d48.png\">"
   ]
  },
  {
   "cell_type": "markdown",
   "id": "db48f48e",
   "metadata": {},
   "source": [
    "# \"sess.run()\" -> \"tf.print()\"\n",
    "\n",
    "\n",
    "> \"sess.run()\" 을 이용해서 출력하는 방법 대신 \"tf.print()\" 을 이용한다."
   ]
  },
  {
   "cell_type": "code",
   "execution_count": 7,
   "id": "640118d1",
   "metadata": {},
   "outputs": [
    {
     "name": "stdout",
     "output_type": "stream",
     "text": [
      "[node1, node2] :  [3, 4]\n",
      "node3 :  7\n",
      "[node1, node2] :  [<tf.Tensor: shape=(), dtype=float32, numpy=3.0>, <tf.Tensor: shape=(), dtype=float32, numpy=4.0>]\n",
      "node3 :  tf.Tensor(7.0, shape=(), dtype=float32)\n",
      "3 4\n",
      "[3, 4]\n",
      "tf.Tensor(3.0, shape=(), dtype=float32) tf.Tensor(4.0, shape=(), dtype=float32)\n",
      "[<tf.Tensor: shape=(), dtype=float32, numpy=3.0>, <tf.Tensor: shape=(), dtype=float32, numpy=4.0>]\n"
     ]
    }
   ],
   "source": [
    "# 1. tensorflow 안에 있는 print 함수 이용\n",
    "tf.print(\"[node1, node2] : \", [node1, node2])\n",
    "tf.print(\"node3 : \", node3)\n",
    "\n",
    "# 2. python 안에 있는 print 함수 이용\n",
    "print(\"[node1, node2] : \", [node1, node2])\n",
    "print(\"node3 : \", node3)\n",
    "\n",
    "# 3. 차이점 : 대괄호의 유무\n",
    "tf.print(node1, node2)\n",
    "tf.print([node1, node2])\n",
    "print(node1, node2)\n",
    "print([node1, node2])"
   ]
  },
  {
   "cell_type": "markdown",
   "id": "2b63bf4c",
   "metadata": {},
   "source": [
    "# \"tf.placeholder()\" -> 함수 정의\n",
    "\n",
    "> \"tf.placeholder()\" 을 이용하지 않고 함수를 새롭게 정의한다."
   ]
  },
  {
   "cell_type": "code",
   "execution_count": 8,
   "id": "6f0266d7",
   "metadata": {},
   "outputs": [
    {
     "name": "stdout",
     "output_type": "stream",
     "text": [
      "tf.Tensor(3, shape=(), dtype=int32)\n",
      "tf.Tensor([4 6], shape=(2,), dtype=int32)\n",
      "tf.Tensor(\n",
      "[[ 3  5  7]\n",
      " [ 9 11 13]], shape=(2, 3), dtype=int32)\n"
     ]
    },
    {
     "name": "stderr",
     "output_type": "stream",
     "text": [
      "2022-08-26 16:26:03.211331: W tensorflow/core/platform/profile_utils/cpu_utils.cc:128] Failed to get CPU frequency: 0 Hz\n",
      "2022-08-26 16:26:03.211503: I tensorflow/core/grappler/optimizers/custom_graph_optimizer_registry.cc:113] Plugin optimizer for device_type GPU is enabled.\n",
      "2022-08-26 16:26:03.221092: I tensorflow/core/grappler/optimizers/custom_graph_optimizer_registry.cc:113] Plugin optimizer for device_type GPU is enabled.\n",
      "2022-08-26 16:26:03.227705: I tensorflow/core/grappler/optimizers/custom_graph_optimizer_registry.cc:113] Plugin optimizer for device_type GPU is enabled.\n"
     ]
    }
   ],
   "source": [
    "@tf.function\n",
    "def adder(a, b):\n",
    "    return a + b\n",
    "\n",
    "A = tf.constant(1)\n",
    "B = tf.constant(2)\n",
    "print(adder(A, B))\n",
    "\n",
    "C = tf.constant([1, 2])\n",
    "D = tf.constant([3, 4])\n",
    "print(adder(C, D))\n",
    "\n",
    "E = tf.constant([[1, 2, 3], [4, 5, 6]])\n",
    "F = tf.constant([[2, 3, 4], [5, 6, 7]])\n",
    "print(adder(E, F))"
   ]
  },
  {
   "cell_type": "code",
   "execution_count": 9,
   "id": "51e2ee1b",
   "metadata": {},
   "outputs": [
    {
     "name": "stdout",
     "output_type": "stream",
     "text": [
      "22.5\n"
     ]
    }
   ],
   "source": [
    "def add_and_triple(a, b):\n",
    "    return 3 * adder(a, b)\n",
    "\n",
    "tf.print(add_and_triple(3, 4.5))"
   ]
  },
  {
   "cell_type": "markdown",
   "id": "8709a73b",
   "metadata": {},
   "source": [
    "# Tensors\n",
    "\n",
    "<img width=\"828\" alt=\"스크린샷 2022-07-18 오후 10 20 39\" src=\"https://user-images.githubusercontent.com/91893721/179524501-9291e268-5a04-42da-8093-1eadaf5c0efb.png\">\n",
    "<img width=\"872\" alt=\"스크린샷 2022-07-18 오후 10 20 50\" src=\"https://user-images.githubusercontent.com/91893721/179524584-a7f19d50-ecb6-4ce9-9338-87af5c526bd9.png\">\n",
    "<img width=\"822\" alt=\"스크린샷 2022-07-18 오후 10 28 09\" src=\"https://user-images.githubusercontent.com/91893721/179525492-6e6f00f9-be9e-4c4f-8db1-ae61d382b32c.png\">"
   ]
  },
  {
   "cell_type": "code",
   "execution_count": 10,
   "id": "136cf874",
   "metadata": {},
   "outputs": [
    {
     "data": {
      "text/plain": [
       "[[[1.0, 2.0, 3.0]], [[7.0, 8.0, 9.0]]]"
      ]
     },
     "execution_count": 10,
     "metadata": {},
     "output_type": "execute_result"
    }
   ],
   "source": [
    "3 # a rank 0 tensor; this is a scalar with shape []\n",
    "[1. ,2., 3.] # a rank 1 tensor; this is a vector with shape [3]\n",
    "[[1., 2., 3.], [4., 5., 6.]] # a rank 2 tensor; a matrix with shape [2, 3]\n",
    "[[[1., 2., 3.]], [[7., 8., 9.]]] # a rank 3 tensor with shape [2, 1, 3]"
   ]
  }
 ],
 "metadata": {
  "kernelspec": {
   "display_name": "Python 3.8.11 ('tf2')",
   "language": "python",
   "name": "python3"
  },
  "language_info": {
   "codemirror_mode": {
    "name": "ipython",
    "version": 3
   },
   "file_extension": ".py",
   "mimetype": "text/x-python",
   "name": "python",
   "nbconvert_exporter": "python",
   "pygments_lexer": "ipython3",
   "version": "3.8.11"
  },
  "vscode": {
   "interpreter": {
    "hash": "7c0a6cafd1d3578584654591a2ba703dcd0177f375c399a413abbbba46e2d79b"
   }
  }
 },
 "nbformat": 4,
 "nbformat_minor": 5
}
