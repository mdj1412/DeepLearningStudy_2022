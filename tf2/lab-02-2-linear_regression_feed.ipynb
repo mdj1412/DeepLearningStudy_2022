{
 "cells": [
  {
   "cell_type": "markdown",
   "metadata": {},
   "source": [
    "# Lab-02-2 linear regression feed"
   ]
  },
  {
   "cell_type": "code",
   "execution_count": 5,
   "metadata": {},
   "outputs": [
    {
     "name": "stdout",
     "output_type": "stream",
     "text": [
      "Num GPUs Available:  1\n"
     ]
    },
    {
     "data": {
      "text/plain": [
       "[PhysicalDevice(name='/physical_device:CPU:0', device_type='CPU'),\n",
       " PhysicalDevice(name='/physical_device:GPU:0', device_type='GPU')]"
      ]
     },
     "execution_count": 5,
     "metadata": {},
     "output_type": "execute_result"
    }
   ],
   "source": [
    "import tensorflow as tf\n",
    "print(\"Num GPUs Available: \", len(tf.config.experimental.list_physical_devices('GPU')))\n",
    "tf.config.list_physical_devices()"
   ]
  },
  {
   "cell_type": "code",
   "execution_count": 6,
   "metadata": {},
   "outputs": [],
   "source": [
    "import tensorflow as tf\n",
    "tf.random.set_seed(777)  # for reprducibilty"
   ]
  },
  {
   "cell_type": "markdown",
   "metadata": {},
   "source": [
    "# Variable"
   ]
  },
  {
   "cell_type": "code",
   "execution_count": 7,
   "metadata": {},
   "outputs": [],
   "source": [
    "# Try to find value for W and b to compute y_data = x_data * W + b  \n",
    "# We know that W should be 1 and b should be 0\n",
    "# But let's TensorFlow figure it out \n",
    "W = tf.Variable(tf.random.normal([1]), name='weight')\n",
    "b = tf.Variable(tf.random.normal([1]), name='bias')"
   ]
  },
  {
   "cell_type": "markdown",
   "metadata": {},
   "source": [
    "# Stochastic Gradient Descent"
   ]
  },
  {
   "cell_type": "code",
   "execution_count": 8,
   "metadata": {},
   "outputs": [],
   "source": [
    "# Stochastic Gradient Descent\n",
    "optimizer = tf.keras.optimizers.SGD(learning_rate=0.01)"
   ]
  },
  {
   "cell_type": "markdown",
   "metadata": {},
   "source": [
    "# Our Model + Fit the line"
   ]
  },
  {
   "cell_type": "code",
   "execution_count": 9,
   "metadata": {},
   "outputs": [
    {
     "name": "stderr",
     "output_type": "stream",
     "text": [
      "2022-08-26 16:25:36.076668: I tensorflow/core/grappler/optimizers/custom_graph_optimizer_registry.cc:113] Plugin optimizer for device_type GPU is enabled.\n",
      "2022-08-26 16:25:36.092268: I tensorflow/core/grappler/optimizers/custom_graph_optimizer_registry.cc:113] Plugin optimizer for device_type GPU is enabled.\n",
      "2022-08-26 16:25:36.110899: I tensorflow/core/grappler/optimizers/custom_graph_optimizer_registry.cc:113] Plugin optimizer for device_type GPU is enabled.\n"
     ]
    },
    {
     "name": "stdout",
     "output_type": "stream",
     "text": [
      "0 2.5251136 [0.84437674] [-1.2727256]\n",
      "200 0.05577017 [1.2742817] [-0.6235069]\n",
      "400 0.021295805 [1.1694895] [-0.38528955]\n",
      "600 0.008131767 [1.1047343] [-0.23808545]\n",
      "800 0.0031051058 [1.0647194] [-0.14712226]\n",
      "1000 0.0011856874 [1.0399928] [-0.09091284]\n",
      "1200 0.00045275394 [1.024713] [-0.05617869]\n",
      "1400 0.00017288656 [1.0152713] [-0.0347152]\n",
      "1600 6.601569e-05 [1.0094366] [-0.02145184]\n",
      "1800 2.5208523e-05 [1.0058314] [-0.01325594]\n",
      "2000 9.625831e-06 [1.0036035] [-0.00819141]\n"
     ]
    }
   ],
   "source": [
    "# tf.placeholder 대체\n",
    "X = [1, 2, 3]\n",
    "Y = [1, 2, 3]\n",
    "\n",
    "@tf.function\n",
    "def cost_eval():\n",
    "    hypothesis = W * X + b\n",
    "    cost = tf.reduce_mean(tf.square(hypothesis - Y))\n",
    "    return cost\n",
    "\n",
    "for step in range(2001):\n",
    "    optimizer.minimize(cost_eval, var_list=[W,b])\n",
    "\n",
    "    if step % 200 == 0:\n",
    "        print(step, cost_eval().numpy(), W.numpy(), b.numpy())"
   ]
  },
  {
   "cell_type": "markdown",
   "metadata": {},
   "source": [
    "# Testing our model\n",
    "\n",
    "> ### 두 가지 방법으로 출력\n",
    ">   1. tensorflow 에 있는 print() 함수  \n",
    ">   2. 각 변수의 numpy() 함수"
   ]
  },
  {
   "cell_type": "code",
   "execution_count": 10,
   "metadata": {},
   "outputs": [
    {
     "name": "stdout",
     "output_type": "stream",
     "text": [
      "[5.00982571]\n",
      "[2.5008173]\n",
      "[1.49721372 3.50442076]\n"
     ]
    }
   ],
   "source": [
    "tf.print(W * [5] + b)\n",
    "tf.print(W * [2.5] + b)\n",
    "tf.print(W * [1.5, 3.5] + b)"
   ]
  },
  {
   "cell_type": "code",
   "execution_count": 11,
   "metadata": {},
   "outputs": [
    {
     "name": "stdout",
     "output_type": "stream",
     "text": [
      "[5.00982588]\n",
      "[2.50081724]\n",
      "[1.49721378 3.5044207 ]\n"
     ]
    }
   ],
   "source": [
    "print(W.numpy() * [5] + b.numpy())\n",
    "print(W.numpy() * [2.5] + b.numpy())\n",
    "print(W.numpy() * [1.5, 3.5] + b.numpy())"
   ]
  },
  {
   "cell_type": "markdown",
   "metadata": {},
   "source": [
    "# Fit the line with new training data"
   ]
  },
  {
   "cell_type": "code",
   "execution_count": 12,
   "metadata": {},
   "outputs": [
    {
     "name": "stderr",
     "output_type": "stream",
     "text": [
      "2022-08-26 16:25:38.639964: I tensorflow/core/grappler/optimizers/custom_graph_optimizer_registry.cc:113] Plugin optimizer for device_type GPU is enabled.\n",
      "2022-08-26 16:25:38.744551: I tensorflow/core/grappler/optimizers/custom_graph_optimizer_registry.cc:113] Plugin optimizer for device_type GPU is enabled.\n",
      "2022-08-26 16:25:38.759008: I tensorflow/core/grappler/optimizers/custom_graph_optimizer_registry.cc:113] Plugin optimizer for device_type GPU is enabled.\n"
     ]
    },
    {
     "name": "stdout",
     "output_type": "stream",
     "text": [
      "0 0.7810817 [1.0693022] [0.01375621]\n",
      "200 0.049505014 [1.1444516] [0.5784834]\n",
      "400 0.012773818 [1.0733769] [0.8350865]\n",
      "600 0.0032960444 [1.037273] [0.9654324]\n",
      "800 0.0008504758 [1.0189333] [1.0316442]\n",
      "1000 0.00021945177 [1.0096176] [1.0652773]\n",
      "1200 5.662176e-05 [1.0048853] [1.0823624]\n",
      "1400 1.4611566e-05 [1.0024817] [1.0910401]\n",
      "1600 3.771624e-06 [1.0012609] [1.0954478]\n",
      "1800 9.73975e-07 [1.0006407] [1.0976868]\n",
      "2000 2.515777e-07 [1.0003257] [1.0988243]\n"
     ]
    }
   ],
   "source": [
    "X = [1, 2, 3, 4, 5]\n",
    "Y = [2.1, 3.1, 4.1, 5.1, 6.1]\n",
    "\n",
    "@tf.function\n",
    "def cost_eval():\n",
    "    hypothesis = W * X + b\n",
    "    cost = tf.reduce_mean(tf.square(hypothesis - Y))\n",
    "    return cost\n",
    "\n",
    "for step in range(2001):\n",
    "    optimizer.minimize(cost_eval, var_list=[W, b])\n",
    "\n",
    "    if step % 200 == 0:\n",
    "        print(step, cost_eval().numpy(), W.numpy(), b.numpy())"
   ]
  },
  {
   "cell_type": "markdown",
   "metadata": {},
   "source": [
    "# Testing our model"
   ]
  },
  {
   "cell_type": "code",
   "execution_count": 13,
   "metadata": {},
   "outputs": [
    {
     "name": "stdout",
     "output_type": "stream",
     "text": [
      "[6.10045266]\n",
      "[3.59963846]\n",
      "[2.59931278 4.59996414]\n"
     ]
    }
   ],
   "source": [
    "print(W.numpy() * [5] + b.numpy())\n",
    "print(W.numpy() * [2.5] + b.numpy())\n",
    "print(W.numpy() * [1.5, 3.5] + b.numpy())"
   ]
  }
 ],
 "metadata": {
  "kernelspec": {
   "display_name": "Python 3.8.11 ('tf2')",
   "language": "python",
   "name": "python3"
  },
  "language_info": {
   "codemirror_mode": {
    "name": "ipython",
    "version": 3
   },
   "file_extension": ".py",
   "mimetype": "text/x-python",
   "name": "python",
   "nbconvert_exporter": "python",
   "pygments_lexer": "ipython3",
   "version": "3.8.11"
  },
  "orig_nbformat": 4,
  "vscode": {
   "interpreter": {
    "hash": "7c0a6cafd1d3578584654591a2ba703dcd0177f375c399a413abbbba46e2d79b"
   }
  }
 },
 "nbformat": 4,
 "nbformat_minor": 2
}
