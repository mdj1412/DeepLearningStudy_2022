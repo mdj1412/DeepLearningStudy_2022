{
 "cells": [
  {
   "cell_type": "markdown",
   "id": "e5458859",
   "metadata": {},
   "source": [
    "# Check TF version"
   ]
  },
  {
   "cell_type": "code",
   "execution_count": 17,
   "id": "486a1123",
   "metadata": {},
   "outputs": [],
   "source": [
    "import tensorflow as tf"
   ]
  },
  {
   "cell_type": "code",
   "execution_count": 18,
   "id": "41759b3a",
   "metadata": {},
   "outputs": [
    {
     "data": {
      "text/plain": [
       "'1.15.0'"
      ]
     },
     "execution_count": 18,
     "metadata": {},
     "output_type": "execute_result"
    }
   ],
   "source": [
    "tf.__version__"
   ]
  },
  {
   "cell_type": "markdown",
   "id": "10bc17d1",
   "metadata": {},
   "source": [
    "# Hello TensorFlow!"
   ]
  },
  {
   "cell_type": "code",
   "execution_count": 19,
   "id": "d34c2fca",
   "metadata": {},
   "outputs": [
    {
     "name": "stdout",
     "output_type": "stream",
     "text": [
      "b'Hello, TensorFlow!'\n"
     ]
    }
   ],
   "source": [
    "# Create a constant op\n",
    "# This op is added as a node to the default graph\n",
    "hello = tf.constant(\"Hello, TensorFlow!\")\n",
    "\n",
    "# start a TF session\n",
    "sess = tf.Session()\n",
    "\n",
    "# run the op and get result\n",
    "# 출력 : byte stream\n",
    "print(sess.run(hello))"
   ]
  },
  {
   "cell_type": "markdown",
   "id": "cc1aa8b7",
   "metadata": {},
   "source": [
    "# Computational Graph"
   ]
  },
  {
   "cell_type": "code",
   "execution_count": 20,
   "id": "12cfc107",
   "metadata": {},
   "outputs": [],
   "source": [
    "node1 = tf.constant(3.0, tf.float32)\n",
    "node2 = tf.constant(4.0)        # also tf.float32 implicitly\n",
    "\n",
    "node3 = tf.add(node1, node2)\n",
    "# node3 = node1 + node2"
   ]
  },
  {
   "cell_type": "code",
   "execution_count": 21,
   "id": "2ed68292",
   "metadata": {},
   "outputs": [
    {
     "name": "stdout",
     "output_type": "stream",
     "text": [
      "node1: Tensor(\"Const_7:0\", shape=(), dtype=float32) node2: Tensor(\"Const_8:0\", shape=(), dtype=float32)\n",
      "node3:  Tensor(\"Add_4:0\", shape=(), dtype=float32)\n"
     ]
    }
   ],
   "source": [
    "print(\"node1:\", node1, \"node2:\", node2)\n",
    "print(\"node3: \", node3)"
   ]
  },
  {
   "cell_type": "markdown",
   "id": "29127227",
   "metadata": {},
   "source": [
    "<img width=\"155\" alt=\"스크린샷 2022-07-26 오후 8 11 34\" src=\"https://user-images.githubusercontent.com/91893721/180993362-d421224d-33b4-419f-8e1b-9fc15d333d48.png\">"
   ]
  },
  {
   "cell_type": "code",
   "execution_count": 22,
   "id": "beda1771",
   "metadata": {},
   "outputs": [
    {
     "name": "stdout",
     "output_type": "stream",
     "text": [
      "sess.run(node1, node2):  [3.0, 4.0]\n",
      "sess.run(node3):  7.0\n"
     ]
    }
   ],
   "source": [
    "sess = tf.Session()\n",
    "print(\"sess.run(node1, node2): \", sess.run([node1, node2]))\n",
    "print(\"sess.run(node3): \", sess.run(node3))"
   ]
  },
  {
   "cell_type": "code",
   "execution_count": 23,
   "id": "bb23f4f6",
   "metadata": {},
   "outputs": [
    {
     "name": "stdout",
     "output_type": "stream",
     "text": [
      "7.5\n",
      "[3. 7.]\n"
     ]
    }
   ],
   "source": [
    "a = tf.placeholder(tf.float32)\n",
    "b = tf.placeholder(tf.float32)\n",
    "\n",
    "# # + provides a shortcut for tf.add(a, b)\n",
    "adder_node = a + b  \n",
    "\n",
    "print(sess.run(adder_node, feed_dict={a: 3, b: 4.5}))\n",
    "print(sess.run(adder_node, feed_dict={a: [1,3], b: [2, 4]}))"
   ]
  },
  {
   "cell_type": "code",
   "execution_count": 24,
   "id": "2342ac83",
   "metadata": {},
   "outputs": [
    {
     "name": "stdout",
     "output_type": "stream",
     "text": [
      "22.5\n"
     ]
    }
   ],
   "source": [
    "add_and_triple = adder_node * 3.\n",
    "print(sess.run(add_and_triple, feed_dict={a: 3, b:4.5}))"
   ]
  },
  {
   "cell_type": "markdown",
   "id": "8709a73b",
   "metadata": {},
   "source": [
    "# Tensors\n",
    "\n",
    "<img width=\"828\" alt=\"스크린샷 2022-07-18 오후 10 20 39\" src=\"https://user-images.githubusercontent.com/91893721/179524501-9291e268-5a04-42da-8093-1eadaf5c0efb.png\">\n",
    "<img width=\"872\" alt=\"스크린샷 2022-07-18 오후 10 20 50\" src=\"https://user-images.githubusercontent.com/91893721/179524584-a7f19d50-ecb6-4ce9-9338-87af5c526bd9.png\">\n",
    "<img width=\"822\" alt=\"스크린샷 2022-07-18 오후 10 28 09\" src=\"https://user-images.githubusercontent.com/91893721/179525492-6e6f00f9-be9e-4c4f-8db1-ae61d382b32c.png\">"
   ]
  },
  {
   "cell_type": "code",
   "execution_count": 25,
   "id": "136cf874",
   "metadata": {},
   "outputs": [
    {
     "data": {
      "text/plain": [
       "[[[1.0, 2.0, 3.0]], [[7.0, 8.0, 9.0]]]"
      ]
     },
     "execution_count": 25,
     "metadata": {},
     "output_type": "execute_result"
    }
   ],
   "source": [
    "3 # a rank 0 tensor; this is a scalar with shape []\n",
    "[1. ,2., 3.] # a rank 1 tensor; this is a vector with shape [3]\n",
    "[[1., 2., 3.], [4., 5., 6.]] # a rank 2 tensor; a matrix with shape [2, 3]\n",
    "[[[1., 2., 3.]], [[7., 8., 9.]]] # a rank 3 tensor with shape [2, 1, 3]"
   ]
  }
 ],
 "metadata": {
  "kernelspec": {
   "display_name": "Python 3.7.0 ('test2')",
   "language": "python",
   "name": "python3"
  },
  "language_info": {
   "codemirror_mode": {
    "name": "ipython",
    "version": 3
   },
   "file_extension": ".py",
   "mimetype": "text/x-python",
   "name": "python",
   "nbconvert_exporter": "python",
   "pygments_lexer": "ipython3",
   "version": "3.7.0"
  },
  "vscode": {
   "interpreter": {
    "hash": "3a129cd62a9a0696987b02b9aa02558856d3df1fbe04ae6225da87b58ee16246"
   }
  }
 },
 "nbformat": 4,
 "nbformat_minor": 5
}
