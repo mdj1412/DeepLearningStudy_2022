{
 "cells": [
  {
   "cell_type": "markdown",
   "metadata": {},
   "source": [
    "# Lab-02-1 linear regression"
   ]
  },
  {
   "cell_type": "code",
   "execution_count": 45,
   "metadata": {},
   "outputs": [
    {
     "name": "stdout",
     "output_type": "stream",
     "text": [
      "Tensor(\"random_uniform_100:0\", shape=(1,), dtype=float32)\n",
      "Tensor(\"random_uniform_101:0\", shape=(1,), dtype=float32)\n",
      "Tensor(\"random_uniform_102:0\", shape=(1,), dtype=float32)\n",
      "Tensor(\"random_uniform_103:0\", shape=(1,), dtype=float32)\n",
      "Tensor(\"random_uniform_104:0\", shape=(1,), dtype=float32)\n",
      "Tensor(\"random_uniform_105:0\", shape=(1,), dtype=float32)\n",
      "Tensor(\"random_uniform_106:0\", shape=(1,), dtype=float32)\n",
      "Tensor(\"random_uniform_107:0\", shape=(1,), dtype=float32)\n",
      "Tensor(\"random_uniform_108:0\", shape=(1,), dtype=float32)\n",
      "Tensor(\"random_uniform_109:0\", shape=(1,), dtype=float32)\n"
     ]
    }
   ],
   "source": [
    "import tensorflow as tf\n",
    "tf.set_random_seed(777)  # for reprducibilty\n",
    "\n",
    "###\n",
    "for i in range(10):\n",
    "    print(tf.random_uniform([1]))"
   ]
  },
  {
   "cell_type": "markdown",
   "metadata": {},
   "source": [
    "# X and Y data"
   ]
  },
  {
   "cell_type": "code",
   "execution_count": 46,
   "metadata": {},
   "outputs": [],
   "source": [
    "x_train = [1, 2, 3]\n",
    "y_train = [1, 2, 3]"
   ]
  },
  {
   "cell_type": "markdown",
   "metadata": {},
   "source": [
    "# Variable\n",
    "\n",
    "* ### tf.Variable  \n",
    "    trainable variable : tensorflow 가 학습하는 과정에서 자기가 변경을 시킨다."
   ]
  },
  {
   "cell_type": "code",
   "execution_count": 47,
   "metadata": {},
   "outputs": [],
   "source": [
    "# Try to find value for W and b to compute y_data = x_data * W + b  \n",
    "# We know that W should be 1 and b should be 0\n",
    "# But let's TensorFlow figure it out\n",
    "\n",
    "# 처음에는 W와 b의 값을 모르기 때문에 random한 값을 주게 된다.\n",
    "# shape : rank = 1\n",
    "W = tf.Variable(tf.random_normal([1]), name='weight')\n",
    "b = tf.Variable(tf.random_normal([1]), name='bias')"
   ]
  },
  {
   "cell_type": "markdown",
   "metadata": {},
   "source": [
    "# Our Model"
   ]
  },
  {
   "cell_type": "code",
   "execution_count": 48,
   "metadata": {},
   "outputs": [],
   "source": [
    "# Out hypothesis XW+b\n",
    "hypothesis = x_train * W + b\n",
    "\n",
    "# cost/loss function\n",
    "cost = tf.reduce_mean(tf.square(hypothesis - y_train))"
   ]
  },
  {
   "cell_type": "code",
   "execution_count": 49,
   "metadata": {},
   "outputs": [
    {
     "name": "stdout",
     "output_type": "stream",
     "text": [
      "Tensor(\"Mean_13:0\", shape=(), dtype=float32)\n"
     ]
    },
    {
     "data": {
      "text/plain": [
       "<tf.Operation 'PrintV2_34' type=PrintV2>"
      ]
     },
     "execution_count": 49,
     "metadata": {},
     "output_type": "execute_result"
    }
   ],
   "source": [
    "# tf.reduce_mean() 예시\n",
    "\n",
    "t = [1., 2., 3., 4.]\n",
    "print(tf.reduce_mean(t))\n",
    "tf.print(tf.reduce_mean(t))"
   ]
  },
  {
   "cell_type": "markdown",
   "metadata": {},
   "source": [
    "# Minimize\n",
    "\n",
    "### Cost를 minimize 하는 작업  \n",
    "> * Cost를 minimize 하는 여러 방법 중 하나 : GradientDescent (경사 하강법)  \n",
    "<br /> \n",
    "> \"v1.train.AdamOptimizer\"나 \"v1.train.GradientDescentOptimizer\" 같은 \"v1.train\"에 있는 옵티마이저는 \"tf.keras.optimizers\"에 있는 것과 동일하다.  \n",
    "> \"v1.train.GradientDescentOptimizer\"는 \"tf.keras.optimizers.SGD\"로 바꿀 수 있다.  \n",
    "<br />\n",
    "> * https://www.tensorflow.org/guide/migrate?hl=ko"
   ]
  },
  {
   "cell_type": "code",
   "execution_count": 50,
   "metadata": {},
   "outputs": [],
   "source": [
    "optimizer = tf.train.GradientDescentOptimizer(learning_rate=0.01)\n",
    "\n",
    "# Cost를 minimize 해라.\n",
    "# tensorflow variable인 W와 b를 조정해서 자기가 스스로 minimize 한다.\n",
    "train = optimizer.minimize(cost)"
   ]
  },
  {
   "cell_type": "markdown",
   "metadata": {},
   "source": [
    "# Prepare session"
   ]
  },
  {
   "cell_type": "code",
   "execution_count": 51,
   "metadata": {},
   "outputs": [],
   "source": [
    "# Launch the graph in a session.\n",
    "sess = tf.Session()\n",
    "\n",
    "# Initializes global variables in the graph.\n",
    "# Variable W, b를 사용하기 전에 반드시 실행시켜줘야 한다.\n",
    "sess.run(tf.global_variables_initializer())"
   ]
  },
  {
   "cell_type": "markdown",
   "metadata": {},
   "source": [
    "# Fit the line\n",
    "\n",
    "<img src=\"https://user-images.githubusercontent.com/91893721/181184980-22332fdc-7669-4a4b-bf52-9ea206836ca5.jpeg\" width=\"145\" height=\"157\"/>"
   ]
  },
  {
   "cell_type": "code",
   "execution_count": 54,
   "metadata": {},
   "outputs": [
    {
     "name": "stdout",
     "output_type": "stream",
     "text": [
      "0 8.242296e-11 [1.0000108] [-2.3964767e-05]\n",
      "200 4.341416e-11 [1.000008] [-1.7110206e-05]\n",
      "400 2.7019572e-11 [1.0000063] [-1.326213e-05]\n",
      "600 1.856885e-11 [1.0000052] [-1.10162e-05]\n",
      "800 1.5954052e-11 [1.0000049] [-9.90594e-06]\n",
      "1000 1.4045061e-11 [1.0000045] [-9.159656e-06]\n",
      "1200 1.2623976e-11 [1.0000043] [-8.66214e-06]\n",
      "1400 1.22781785e-11 [1.0000043] [-8.642268e-06]\n",
      "1600 1.22781785e-11 [1.0000043] [-8.642268e-06]\n",
      "1800 1.22781785e-11 [1.0000043] [-8.642268e-06]\n",
      "2000 1.22781785e-11 [1.0000043] [-8.642268e-06]\n"
     ]
    }
   ],
   "source": [
    "for step in range(2001):\n",
    "    # train 을 실행시키게 되면 graph를 따라들어가서 W와 b의 값을 조정하게 된다.\n",
    "    sess.run(train)\n",
    "\n",
    "    if step % 200 == 0:\n",
    "        print(step, sess.run(cost), sess.run(W), sess.run(b))"
   ]
  }
 ],
 "metadata": {
  "kernelspec": {
   "display_name": "Python 3.7.0 ('test1')",
   "language": "python",
   "name": "python3"
  },
  "language_info": {
   "codemirror_mode": {
    "name": "ipython",
    "version": 3
   },
   "file_extension": ".py",
   "mimetype": "text/x-python",
   "name": "python",
   "nbconvert_exporter": "python",
   "pygments_lexer": "ipython3",
   "version": "3.7.0"
  },
  "orig_nbformat": 4,
  "vscode": {
   "interpreter": {
    "hash": "b58e4a4096770112f966ee67286df4ebe29815a5f64328f1ec216dc9d78384e7"
   }
  }
 },
 "nbformat": 4,
 "nbformat_minor": 2
}
